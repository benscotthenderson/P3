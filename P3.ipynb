{
 "cells": [
  {
   "cell_type": "markdown",
   "metadata": {},
   "source": [
    "# Scientific Computing and Data Management Practical 3\n",
    "## Making a map of the Southern Ocean (60°S to 90°S) and Antarctica\n",
    "### The following packages need to be imported"
   ]
  },
  {
   "cell_type": "code",
   "execution_count": null,
   "metadata": {},
   "outputs": [],
   "source": [
    "import matplotlib.pyplot as plt\n",
    "import cartopy\n",
    "import cartopy.crs as ccrs\n",
    "import cartopy.feature as cfeature"
   ]
  },
  {
   "cell_type": "code",
   "execution_count": null,
   "metadata": {},
   "outputs": [],
   "source": [
    "central_lon, central_lat  = 0, -90\n",
    "\n",
    "extents = [-180, 180, -90, -65]\n",
    "\n",
    "fig, ax = plt.subplots(figsize=(10, 6), subplot_kw={'projection':ccrs.Orthographic(central_lon, central_lat)})\n",
    "\n",
    "ax.set_extent(extents, crs=ccrs.PlateCarree())\n",
    "ax.add_feature(cfeature.LAND, color='white')\n",
    "ax.add_feature(cfeature.OCEAN, color = \"steelblue\")\n",
    "ax.coastlines(resolution='50m', linewidth=0.5)\n",
    "gl = ax.gridlines(draw_labels=True)\n",
    "gl.xlabels_top = False\n",
    "gl.ylabels_right = False\n",
    "ax.set_title('Antarctic Continent and Southern Ocean (60°S to 90°S)')\n",
    "\n",
    "plt.show()"
   ]
  },
  {
   "cell_type": "markdown",
   "metadata": {},
   "source": [
    "### Another way to render the land and the ocean features is to overlay satellite imagery"
   ]
  },
  {
   "cell_type": "code",
   "execution_count": null,
   "metadata": {},
   "outputs": [],
   "source": [
    "central_lon, central_lat  = 0, -90\n",
    "\n",
    "extents = [-180, 180, -90, -65]\n",
    "\n",
    "fig, ax = plt.subplots(figsize=(10, 6), subplot_kw={'projection':ccrs.Orthographic(central_lon, central_lat)})\n",
    "\n",
    "ax.set_extent(extents, crs=ccrs.PlateCarree())\n",
    "ax.stock_img()\n",
    "gl = ax.gridlines(draw_labels=True)\n",
    "gl.xlabels_top = False\n",
    "gl.ylabels_right = False\n",
    "ax.set_title('Antarctic Continent and Southern Ocean (60°S to 90°S)')\n",
    "\n",
    "plt.show()"
   ]
  },
  {
   "cell_type": "markdown",
   "metadata": {},
   "source": [
    "### Change the color and linewidth of the gridlines to make them more visible"
   ]
  },
  {
   "cell_type": "code",
   "execution_count": null,
   "metadata": {},
   "outputs": [],
   "source": [
    "central_lon, central_lat  = 0, -90\n",
    "\n",
    "extents = [-180, 180, -90, -65]\n",
    "\n",
    "fig, ax = plt.subplots(figsize=(10, 6), subplot_kw={'projection':ccrs.Orthographic(central_lon, central_lat)})\n",
    "\n",
    "ax.set_extent(extents, crs=ccrs.PlateCarree())\n",
    "ax.add_feature(cfeature.LAND, color='white')\n",
    "ax.add_feature(cfeature.OCEAN, color = \"steelblue\")\n",
    "ax.stock_img()\n",
    "ax.coastlines(resolution='50m', linewidth=0.5)\n",
    "gl = ax.gridlines(draw_labels=True, color = \"black\", linewidth = 0.3)\n",
    "gl.xlabels_top = False\n",
    "gl.ylabels_right = False\n",
    "\n",
    "ax.set_title('Antarctic Continent and Southern Ocean (60°S to 90°S)')\n",
    "\n",
    "plt.show()"
   ]
  },
  {
   "cell_type": "markdown",
   "metadata": {},
   "source": [
    "An Orthographic projection is used in this case because it provides a sense of 3 dimensions for the chosen area. This projection type is also most effective when displaying an area from a single hemisphere and hence it is effective in this case of mapping an area far South on the globe (ArcGIS Pro)."
   ]
  },
  {
   "cell_type": "markdown",
   "metadata": {},
   "source": [
    "## Making a map of the South Atlantic, from 20°S to 50°S"
   ]
  },
  {
   "cell_type": "markdown",
   "metadata": {},
   "source": [
    "### Including the locations of the following citites **Walvis Bay, Cape Town, Rio de Janeiro, Montevideo**"
   ]
  },
  {
   "cell_type": "code",
   "execution_count": null,
   "metadata": {},
   "outputs": [],
   "source": [
    "from geopy.geocoders import Nominatim"
   ]
  },
  {
   "cell_type": "code",
   "execution_count": null,
   "metadata": {},
   "outputs": [],
   "source": [
    "central_lon = -30  \n",
    "central_lat = -35  \n",
    "\n",
    "extents = [-80, 30, -48, -12]  \n",
    "\n",
    "fig, ax = plt.subplots(subplot_kw={'projection':ccrs.Orthographic(central_longitude=central_lon, central_latitude=central_lat)}, figsize=(10, 8))\n",
    "\n",
    "ax.set_extent(extents)\n",
    "ax.coastlines(resolution='50m', linewidth=0.5)\n",
    "ax.stock_img()\n",
    "gl = ax.gridlines(draw_labels=True, color = 'black', linewidth = 0.3)\n",
    "gl.xlabels_top = False\n",
    "gl.ylabels_right = False\n",
    "\n",
    "place = ['Walvis Bay', 'Cape Town', 'Rio de Janeiro', 'Montevideo']\n",
    "address = []\n",
    "\n",
    "geolocator = Nominatim(user_agent = 'educational')\n",
    "for p in place:\n",
    "    loc = geolocator.geocode(p, language = \"en\")\n",
    "    address.append(loc)\n",
    "    \n",
    "print(address)\n",
    "\n",
    "for p in range(len(place)):\n",
    "    ax.text(address[p].longitude, address[p].latitude, place[p], transform = ccrs.Geodetic(), fontweight = 'bold')\n",
    "    \n",
    "ax.set_title('Southern Atlantic Ocean (20°S to 50°S)')\n"
   ]
  },
  {
   "cell_type": "markdown",
   "metadata": {},
   "source": [
    "Again, an `Orthographic` map projection has been used to plot this map.  Once again this is the case because we are dealing with extents only in the Southern Hemisphere, which means an Orthographic projection can handle this area adequately.  It Also keeps the globe effect that represents the shape the rest of the globe. "
   ]
  },
  {
   "cell_type": "markdown",
   "metadata": {},
   "source": [
    "The `PlateCarree` projection is used to set the spatial extents of the plot in the form of a latitudinal and longitudinal grid."
   ]
  },
  {
   "cell_type": "markdown",
   "metadata": {},
   "source": [
    "## Applying 3 different coastline coastline resolutions from the GSHHG database to False Bay"
   ]
  },
  {
   "cell_type": "code",
   "execution_count": null,
   "metadata": {},
   "outputs": [],
   "source": [
    "central_lon, central_lat = 18, -34.5\n",
    "\n",
    "extent = [18.25, 19, -33.75, -34.5]\n",
    "\n",
    "fig, ax = plt.subplots(1, 3, figsize = (15, 6), subplot_kw = {'projection':ccrs.Robinson()})\n",
    "\n",
    "# Low resolution coastline\n",
    "cl_low = cfeature.GSHHSFeature(scale = 'l')\n",
    "ax[0].set_extent(extent)\n",
    "gl0 = ax[0].gridlines(draw_labels = True, color = 'black', linewidth = 0.2)\n",
    "ax[0].add_feature(cl_low)\n",
    "ax[0].add_feature(cfeature.LAND, color = \"palegoldenrod\")\n",
    "ax[0].add_feature(cfeature.OCEAN, color = \"royalblue\")\n",
    "ax[0].set_title('Low Resolution')\n",
    "gl0.right_labels = False\n",
    "gl0.top_labels = False\n",
    "\n",
    "\n",
    "# Intermediate resolution coastline\n",
    "cl_intermediate = cfeature.GSHHSFeature(scale='i')\n",
    "ax[1].set_extent(extent)\n",
    "gl1 = ax[1].gridlines(draw_labels = True, color = 'black', linewidth = 0.2)\n",
    "ax[1].add_feature(cl_intermediate)\n",
    "ax[1].add_feature(cfeature.LAND, color = \"palegoldenrod\")\n",
    "ax[1].add_feature(cfeature.OCEAN, color = \"royalblue\")\n",
    "ax[1].set_title('Intermediate Resolution')\n",
    "gl1.right_labels = False\n",
    "gl1.top_labels = False\n",
    "\n",
    "\n",
    "# Full resolution coastline\n",
    "cl_full = cfeature.GSHHSFeature(scale = 'f')\n",
    "ax[2].set_extent(extent)\n",
    "gl2 = ax[2].gridlines(draw_labels = True, color = 'black', linewidth = 0.2)\n",
    "ax[2].add_feature(cl_full)\n",
    "ax[2].add_feature(cfeature.LAND, color = \"palegoldenrod\")\n",
    "ax[2].add_feature(cfeature.OCEAN, color = \"royalblue\")\n",
    "ax[2].set_title('Full Resolution')\n",
    "gl2.right_labels = False\n",
    "gl2.top_labels = False\n",
    "\n",
    "plt.show()"
   ]
  },
  {
   "cell_type": "markdown",
   "metadata": {},
   "source": [
    "The projection `Robinson` is used in this case.  It is impossible to accurately present the world map on a flat surface without having some kind of distrotion, either angularly, distance wise and area wise.  The Robinson projection has all of these distortions however the tradeoffs between them are typicall within acceptable limits and that is why it has been chosen in the case (QGIS)."
   ]
  },
  {
   "cell_type": "markdown",
   "metadata": {},
   "source": [
    "## Online Sources:"
   ]
  },
  {
   "cell_type": "markdown",
   "metadata": {},
   "source": [
    "ArcGIS Pro: \n",
    "\n",
    "* https://pro.arcgis.com/en/pro-app/3.1/help/mapping/properties/plate-carree.htm#:~:text=This%20projection%20can%20be%20used,%2C%20for%20example%2C%20time%20zones.\n",
    "* https://pro.arcgis.com/en/pro-app/3.1/help/mapping/properties/orthographic.htm\n",
    "\n",
    "QGIS:\n",
    "\n",
    "* https://docs.qgis.org/3.4/en/docs/gentle_gis_introduction/coordinate_reference_systems.html#figure-plate-caree-projection"
   ]
  }
 ],
 "metadata": {
  "language_info": {
   "name": "python"
  }
 },
 "nbformat": 4,
 "nbformat_minor": 2
}
